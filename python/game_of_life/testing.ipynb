{
 "cells": [
  {
   "cell_type": "code",
   "execution_count": 4,
   "metadata": {},
   "outputs": [],
   "source": [
    "from conways_life import CellScene, SceneRenering, ConwayRules\n",
    "import time\n",
    "\n",
    "size = 50\n",
    "\n",
    "scene = CellScene.random(size, size)\n",
    "n_frames = 1000\n",
    "\n",
    "min_frame_time = 1/30\n",
    "\n",
    "DEBUG = False\n",
    "\n",
    "framerate_exceeded_count = 0\n",
    "logging_counts = 20\n",
    "\n",
    "for i in range(n_frames):\n",
    "    scene_start = time.time()\n",
    "    SceneRenering.render(scene.to_shapes())\n",
    "    render_time = time.time() - scene_start\n",
    "    evolve_start = time.time()\n",
    "    scene = ConwayRules.evolve_scene(scene)\n",
    "    evolve_time = time.time() - evolve_start\n",
    "    total_time = time.time() - scene_start\n",
    "\n",
    "    if DEBUG:\n",
    "        print(f\"Frame {i+1}/{n_frames} - Render time: {render_time:.2f}s - Evolve time: {evolve_time:.2f}s - Total time: {total_time:.2f}s\")\n",
    "    \n",
    "    if total_time < min_frame_time:\n",
    "        if DEBUG:\n",
    "            print(f\"Sleeping for {min_frame_time - total_time:.2f}s\")\n",
    "        time.sleep(min_frame_time - total_time)\n",
    "    else:\n",
    "        if DEBUG:\n",
    "            print(f\"Frame took {total_time - min_frame_time:.2f}s too long\")\n",
    "        framerate_exceeded_count += 1\n",
    "        if framerate_exceeded_count % logging_counts == 0:\n",
    "            print(f\"Frame took {total_time - min_frame_time:.2f}s too long\")\n",
    "        \n",
    "        \n"
   ]
  },
  {
   "cell_type": "code",
   "execution_count": 2,
   "metadata": {},
   "outputs": [
    {
     "name": "stdout",
     "output_type": "stream",
     "text": [
      "0.8922090530395508\n"
     ]
    }
   ],
   "source": [
    "start = time.time()\n",
    "SceneRenering.non_async_render_shapes(scene.to_shapes())\n",
    "finish = time.time()\n",
    "print(finish - start)"
   ]
  },
  {
   "cell_type": "code",
   "execution_count": 2,
   "metadata": {},
   "outputs": [
    {
     "name": "stdout",
     "output_type": "stream",
     "text": [
      "Collecting httpx\n",
      "  Downloading httpx-0.27.0-py3-none-any.whl (75 kB)\n",
      "\u001b[2K     \u001b[90m━━━━━━━━━━━━━━━━━━━━━━━━━━━━━━━━━━━━━━━━\u001b[0m \u001b[32m75.6/75.6 kB\u001b[0m \u001b[31m2.0 MB/s\u001b[0m eta \u001b[36m0:00:00\u001b[0m\n",
      "\u001b[?25hRequirement already satisfied: anyio in /Users/dandrews/miniconda3/envs/bldstock/lib/python3.10/site-packages (from httpx) (4.2.0)\n",
      "Requirement already satisfied: certifi in /Users/dandrews/miniconda3/envs/bldstock/lib/python3.10/site-packages (from httpx) (2024.2.2)\n",
      "Collecting httpcore==1.*\n",
      "  Downloading httpcore-1.0.5-py3-none-any.whl (77 kB)\n",
      "\u001b[2K     \u001b[90m━━━━━━━━━━━━━━━━━━━━━━━━━━━━━━━━━━━━━━━━\u001b[0m \u001b[32m77.9/77.9 kB\u001b[0m \u001b[31m5.3 MB/s\u001b[0m eta \u001b[36m0:00:00\u001b[0m\n",
      "\u001b[?25hRequirement already satisfied: sniffio in /Users/dandrews/miniconda3/envs/bldstock/lib/python3.10/site-packages (from httpx) (1.3.0)\n",
      "Requirement already satisfied: idna in /Users/dandrews/miniconda3/envs/bldstock/lib/python3.10/site-packages (from httpx) (3.6)\n",
      "Collecting h11<0.15,>=0.13\n",
      "  Downloading h11-0.14.0-py3-none-any.whl (58 kB)\n",
      "\u001b[2K     \u001b[90m━━━━━━━━━━━━━━━━━━━━━━━━━━━━━━━━━━━━━━━━\u001b[0m \u001b[32m58.3/58.3 kB\u001b[0m \u001b[31m6.2 MB/s\u001b[0m eta \u001b[36m0:00:00\u001b[0m\n",
      "\u001b[?25hRequirement already satisfied: exceptiongroup>=1.0.2 in /Users/dandrews/miniconda3/envs/bldstock/lib/python3.10/site-packages (from anyio->httpx) (1.2.0)\n",
      "Requirement already satisfied: typing-extensions>=4.1 in /Users/dandrews/miniconda3/envs/bldstock/lib/python3.10/site-packages (from anyio->httpx) (4.9.0)\n",
      "Installing collected packages: h11, httpcore, httpx\n",
      "Successfully installed h11-0.14.0 httpcore-1.0.5 httpx-0.27.0\n"
     ]
    }
   ],
   "source": [
    "!pip install httpx"
   ]
  },
  {
   "cell_type": "code",
   "execution_count": 2,
   "metadata": {},
   "outputs": [
    {
     "name": "stdout",
     "output_type": "stream",
     "text": [
      "<Response [200]>\n",
      "http://127.0.0.1:3000/shapes\n",
      "http://127.0.0.1:3000/clear\n",
      "Rendering shape: CellShape(x=43, y=10, width=10, height=10, color=(1, 1, 1, 1))\n",
      "Shape rendered: <Response [200]>\n",
      "Rendering shape: CellShape(x=54, y=10, width=10, height=10, color=(1, 1, 1, 1))\n",
      "Shape rendered: <Response [200]>\n",
      "Rendering shape: CellShape(x=10, y=21, width=10, height=10, color=(1, 1, 1, 1))\n",
      "Shape rendered: <Response [200]>\n",
      "Rendering shape: CellShape(x=21, y=21, width=10, height=10, color=(1, 1, 1, 1))\n",
      "Shape rendered: <Response [200]>\n",
      "Rendering shape: CellShape(x=32, y=21, width=10, height=10, color=(1, 1, 1, 1))\n",
      "Shape rendered: <Response [200]>\n",
      "Rendering shape: CellShape(x=10, y=32, width=10, height=10, color=(1, 1, 1, 1))\n",
      "Shape rendered: <Response [200]>\n",
      "Rendering shape: CellShape(x=21, y=32, width=10, height=10, color=(1, 1, 1, 1))\n",
      "Shape rendered: <Response [200]>\n",
      "Rendering shape: CellShape(x=32, y=43, width=10, height=10, color=(1, 1, 1, 1))\n",
      "Shape rendered: <Response [200]>\n",
      "Rendering shape: CellShape(x=43, y=43, width=10, height=10, color=(1, 1, 1, 1))\n",
      "Shape rendered: <Response [200]>\n",
      "Rendering shape: CellShape(x=32, y=54, width=10, height=10, color=(1, 1, 1, 1))\n",
      "Shape rendered: <Response [200]>\n",
      "Rendering shape: CellShape(x=43, y=54, width=10, height=10, color=(1, 1, 1, 1))\n",
      "Shape rendered: <Response [200]>\n"
     ]
    }
   ],
   "source": []
  },
  {
   "cell_type": "code",
   "execution_count": null,
   "metadata": {},
   "outputs": [],
   "source": []
  }
 ],
 "metadata": {
  "kernelspec": {
   "display_name": "bldstock",
   "language": "python",
   "name": "python3"
  },
  "language_info": {
   "codemirror_mode": {
    "name": "ipython",
    "version": 3
   },
   "file_extension": ".py",
   "mimetype": "text/x-python",
   "name": "python",
   "nbconvert_exporter": "python",
   "pygments_lexer": "ipython3",
   "version": "3.10.14"
  }
 },
 "nbformat": 4,
 "nbformat_minor": 2
}
