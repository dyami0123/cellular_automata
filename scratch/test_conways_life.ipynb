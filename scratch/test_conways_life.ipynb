{
 "cells": [
  {
   "cell_type": "code",
   "execution_count": null,
   "metadata": {},
   "outputs": [],
   "source": [
    "from conways_life import CellScene, SceneRenering, ConwayRules\n",
    "import time\n",
    "\n",
    "size = 50\n",
    "\n",
    "scene = CellScene.random(size, size)\n",
    "n_frames = 1000\n",
    "\n",
    "min_frame_time = 1/30\n",
    "\n",
    "DEBUG = False\n",
    "\n",
    "framerate_exceeded_count = 0\n",
    "logging_counts = 20\n",
    "\n",
    "for i in range(n_frames):\n",
    "    scene_start = time.time()\n",
    "    SceneRenering.render(scene.to_shapes())\n",
    "    render_time = time.time() - scene_start\n",
    "    evolve_start = time.time()\n",
    "    scene = ConwayRules.evolve_scene(scene)\n",
    "    evolve_time = time.time() - evolve_start\n",
    "    total_time = time.time() - scene_start\n",
    "\n",
    "    if DEBUG:\n",
    "        print(f\"Frame {i+1}/{n_frames} - Render time: {render_time:.2f}s - Evolve time: {evolve_time:.2f}s - Total time: {total_time:.2f}s\")\n",
    "    \n",
    "    if total_time < min_frame_time:\n",
    "        if DEBUG:\n",
    "            print(f\"Sleeping for {min_frame_time - total_time:.2f}s\")\n",
    "        time.sleep(min_frame_time - total_time)\n",
    "    else:\n",
    "        if DEBUG:\n",
    "            print(f\"Frame took {total_time - min_frame_time:.2f}s too long\")\n",
    "        framerate_exceeded_count += 1\n",
    "        if framerate_exceeded_count % logging_counts == 0:\n",
    "            print(f\"Frame took {total_time - min_frame_time:.2f}s too long\")\n",
    "        \n",
    "        \n"
   ]
  }
 ],
 "metadata": {
  "kernelspec": {
   "display_name": "bldstock",
   "language": "python",
   "name": "python3"
  },
  "language_info": {
   "codemirror_mode": {
    "name": "ipython",
    "version": 3
   },
   "file_extension": ".py",
   "mimetype": "text/x-python",
   "name": "python",
   "nbconvert_exporter": "python",
   "pygments_lexer": "ipython3",
   "version": "3.11.9"
  }
 },
 "nbformat": 4,
 "nbformat_minor": 2
}
